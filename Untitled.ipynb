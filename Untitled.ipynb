{
 "cells": [
  {
   "cell_type": "code",
   "execution_count": 3,
   "id": "6fc0f17a",
   "metadata": {},
   "outputs": [],
   "source": [
    "import pandas as pd\n",
    "import numpy as np\n",
    "import matplotlib.pyplot as plt\n",
    "%matplotlib inline"
   ]
  },
  {
   "cell_type": "code",
   "execution_count": 4,
   "id": "375c17fc",
   "metadata": {},
   "outputs": [],
   "source": [
    "Lista=pd.read_csv('BRAZIL_CITIES.csv', sep=';')\n"
   ]
  },
  {
   "cell_type": "code",
   "execution_count": 5,
   "id": "ee818d48",
   "metadata": {},
   "outputs": [
    {
     "data": {
      "text/html": [
       "<div>\n",
       "<style scoped>\n",
       "    .dataframe tbody tr th:only-of-type {\n",
       "        vertical-align: middle;\n",
       "    }\n",
       "\n",
       "    .dataframe tbody tr th {\n",
       "        vertical-align: top;\n",
       "    }\n",
       "\n",
       "    .dataframe thead th {\n",
       "        text-align: right;\n",
       "    }\n",
       "</style>\n",
       "<table border=\"1\" class=\"dataframe\">\n",
       "  <thead>\n",
       "    <tr style=\"text-align: right;\">\n",
       "      <th></th>\n",
       "      <th>CITY</th>\n",
       "      <th>STATE</th>\n",
       "      <th>CAPITAL</th>\n",
       "      <th>IBGE_RES_POP</th>\n",
       "      <th>IBGE_RES_POP_BRAS</th>\n",
       "      <th>IBGE_RES_POP_ESTR</th>\n",
       "      <th>IBGE_DU</th>\n",
       "      <th>IBGE_DU_URBAN</th>\n",
       "      <th>IBGE_DU_RURAL</th>\n",
       "      <th>IBGE_POP</th>\n",
       "    </tr>\n",
       "  </thead>\n",
       "  <tbody>\n",
       "    <tr>\n",
       "      <th>0</th>\n",
       "      <td>Abadia De Goiás</td>\n",
       "      <td>GO</td>\n",
       "      <td>0</td>\n",
       "      <td>6876.0</td>\n",
       "      <td>6876.0</td>\n",
       "      <td>0.0</td>\n",
       "      <td>2137.0</td>\n",
       "      <td>1546.0</td>\n",
       "      <td>591.0</td>\n",
       "      <td>5300.0</td>\n",
       "    </tr>\n",
       "    <tr>\n",
       "      <th>1</th>\n",
       "      <td>Abadia Dos Dourados</td>\n",
       "      <td>MG</td>\n",
       "      <td>0</td>\n",
       "      <td>6704.0</td>\n",
       "      <td>6704.0</td>\n",
       "      <td>0.0</td>\n",
       "      <td>2328.0</td>\n",
       "      <td>1481.0</td>\n",
       "      <td>847.0</td>\n",
       "      <td>4154.0</td>\n",
       "    </tr>\n",
       "    <tr>\n",
       "      <th>2</th>\n",
       "      <td>Abadiânia</td>\n",
       "      <td>GO</td>\n",
       "      <td>0</td>\n",
       "      <td>15757.0</td>\n",
       "      <td>15609.0</td>\n",
       "      <td>148.0</td>\n",
       "      <td>4655.0</td>\n",
       "      <td>3233.0</td>\n",
       "      <td>1422.0</td>\n",
       "      <td>10656.0</td>\n",
       "    </tr>\n",
       "    <tr>\n",
       "      <th>3</th>\n",
       "      <td>Abaeté</td>\n",
       "      <td>MG</td>\n",
       "      <td>0</td>\n",
       "      <td>22690.0</td>\n",
       "      <td>22690.0</td>\n",
       "      <td>0.0</td>\n",
       "      <td>7694.0</td>\n",
       "      <td>6667.0</td>\n",
       "      <td>1027.0</td>\n",
       "      <td>18464.0</td>\n",
       "    </tr>\n",
       "    <tr>\n",
       "      <th>4</th>\n",
       "      <td>Abaetetuba</td>\n",
       "      <td>PA</td>\n",
       "      <td>0</td>\n",
       "      <td>141100.0</td>\n",
       "      <td>141040.0</td>\n",
       "      <td>60.0</td>\n",
       "      <td>31061.0</td>\n",
       "      <td>19057.0</td>\n",
       "      <td>12004.0</td>\n",
       "      <td>82956.0</td>\n",
       "    </tr>\n",
       "    <tr>\n",
       "      <th>...</th>\n",
       "      <td>...</td>\n",
       "      <td>...</td>\n",
       "      <td>...</td>\n",
       "      <td>...</td>\n",
       "      <td>...</td>\n",
       "      <td>...</td>\n",
       "      <td>...</td>\n",
       "      <td>...</td>\n",
       "      <td>...</td>\n",
       "      <td>...</td>\n",
       "    </tr>\n",
       "    <tr>\n",
       "      <th>5568</th>\n",
       "      <td>Xique-Xique</td>\n",
       "      <td>BA</td>\n",
       "      <td>0</td>\n",
       "      <td>45536.0</td>\n",
       "      <td>45536.0</td>\n",
       "      <td>0.0</td>\n",
       "      <td>11637.0</td>\n",
       "      <td>8461.0</td>\n",
       "      <td>3176.0</td>\n",
       "      <td>32497.0</td>\n",
       "    </tr>\n",
       "    <tr>\n",
       "      <th>5569</th>\n",
       "      <td>Zabelê</td>\n",
       "      <td>PB</td>\n",
       "      <td>0</td>\n",
       "      <td>2075.0</td>\n",
       "      <td>2075.0</td>\n",
       "      <td>0.0</td>\n",
       "      <td>673.0</td>\n",
       "      <td>489.0</td>\n",
       "      <td>184.0</td>\n",
       "      <td>1469.0</td>\n",
       "    </tr>\n",
       "    <tr>\n",
       "      <th>5570</th>\n",
       "      <td>Zacarias</td>\n",
       "      <td>SP</td>\n",
       "      <td>0</td>\n",
       "      <td>2335.0</td>\n",
       "      <td>2335.0</td>\n",
       "      <td>0.0</td>\n",
       "      <td>799.0</td>\n",
       "      <td>638.0</td>\n",
       "      <td>161.0</td>\n",
       "      <td>1836.0</td>\n",
       "    </tr>\n",
       "    <tr>\n",
       "      <th>5571</th>\n",
       "      <td>Zé Doca</td>\n",
       "      <td>MA</td>\n",
       "      <td>0</td>\n",
       "      <td>50173.0</td>\n",
       "      <td>50152.0</td>\n",
       "      <td>21.0</td>\n",
       "      <td>11886.0</td>\n",
       "      <td>7611.0</td>\n",
       "      <td>4275.0</td>\n",
       "      <td>30803.0</td>\n",
       "    </tr>\n",
       "    <tr>\n",
       "      <th>5572</th>\n",
       "      <td>Zortéa</td>\n",
       "      <td>SC</td>\n",
       "      <td>0</td>\n",
       "      <td>2991.0</td>\n",
       "      <td>2991.0</td>\n",
       "      <td>0.0</td>\n",
       "      <td>1026.0</td>\n",
       "      <td>800.0</td>\n",
       "      <td>226.0</td>\n",
       "      <td>2326.0</td>\n",
       "    </tr>\n",
       "  </tbody>\n",
       "</table>\n",
       "<p>5573 rows × 10 columns</p>\n",
       "</div>"
      ],
      "text/plain": [
       "                     CITY STATE  CAPITAL  IBGE_RES_POP  IBGE_RES_POP_BRAS  \\\n",
       "0         Abadia De Goiás    GO        0        6876.0             6876.0   \n",
       "1     Abadia Dos Dourados    MG        0        6704.0             6704.0   \n",
       "2               Abadiânia    GO        0       15757.0            15609.0   \n",
       "3                  Abaeté    MG        0       22690.0            22690.0   \n",
       "4              Abaetetuba    PA        0      141100.0           141040.0   \n",
       "...                   ...   ...      ...           ...                ...   \n",
       "5568          Xique-Xique    BA        0       45536.0            45536.0   \n",
       "5569               Zabelê    PB        0        2075.0             2075.0   \n",
       "5570             Zacarias    SP        0        2335.0             2335.0   \n",
       "5571              Zé Doca    MA        0       50173.0            50152.0   \n",
       "5572               Zortéa    SC        0        2991.0             2991.0   \n",
       "\n",
       "      IBGE_RES_POP_ESTR  IBGE_DU  IBGE_DU_URBAN  IBGE_DU_RURAL  IBGE_POP  \n",
       "0                   0.0   2137.0         1546.0          591.0    5300.0  \n",
       "1                   0.0   2328.0         1481.0          847.0    4154.0  \n",
       "2                 148.0   4655.0         3233.0         1422.0   10656.0  \n",
       "3                   0.0   7694.0         6667.0         1027.0   18464.0  \n",
       "4                  60.0  31061.0        19057.0        12004.0   82956.0  \n",
       "...                 ...      ...            ...            ...       ...  \n",
       "5568                0.0  11637.0         8461.0         3176.0   32497.0  \n",
       "5569                0.0    673.0          489.0          184.0    1469.0  \n",
       "5570                0.0    799.0          638.0          161.0    1836.0  \n",
       "5571               21.0  11886.0         7611.0         4275.0   30803.0  \n",
       "5572                0.0   1026.0          800.0          226.0    2326.0  \n",
       "\n",
       "[5573 rows x 10 columns]"
      ]
     },
     "execution_count": 5,
     "metadata": {},
     "output_type": "execute_result"
    }
   ],
   "source": [
    "Lista.loc[:,'CITY':'IBGE_POP']"
   ]
  },
  {
   "cell_type": "code",
   "execution_count": 6,
   "id": "dc1810d6",
   "metadata": {},
   "outputs": [
    {
     "data": {
      "text/plain": [
       "MG    853\n",
       "SP    645\n",
       "RS    498\n",
       "BA    418\n",
       "PR    399\n",
       "SC    295\n",
       "GO    246\n",
       "PI    224\n",
       "PB    223\n",
       "MA    217\n",
       "PE    186\n",
       "CE    184\n",
       "RN    167\n",
       "PA    144\n",
       "MT    141\n",
       "TO    139\n",
       "AL    102\n",
       "RJ     92\n",
       "MS     79\n",
       "ES     78\n",
       "SE     75\n",
       "AM     62\n",
       "RO     52\n",
       "AC     22\n",
       "AP     16\n",
       "RR     15\n",
       "DF      1\n",
       "Name: STATE, dtype: int64"
      ]
     },
     "execution_count": 6,
     "metadata": {},
     "output_type": "execute_result"
    }
   ],
   "source": [
    "# mostra a quantidade de cidades em cada estado \n",
    "Lista['STATE'].value_counts()"
   ]
  },
  {
   "cell_type": "code",
   "execution_count": 7,
   "id": "4c654f3a",
   "metadata": {},
   "outputs": [
    {
     "data": {
      "text/plain": [
       "STATE\n",
       "MG    853\n",
       "SP    645\n",
       "RS    496\n",
       "BA    417\n",
       "PR    399\n",
       "SC    293\n",
       "GO    246\n",
       "PI    224\n",
       "PB    223\n",
       "MA    217\n",
       "Name: IBGE_RES_POP, dtype: int64"
      ]
     },
     "execution_count": 7,
     "metadata": {},
     "output_type": "execute_result"
    }
   ],
   "source": [
    "Lista.groupby('STATE').count().IBGE_RES_POP.sort_values(ascending=False).head(10)"
   ]
  },
  {
   "cell_type": "code",
   "execution_count": 8,
   "id": "8093588d",
   "metadata": {},
   "outputs": [
    {
     "data": {
      "image/png": "[encoded data removed]",
      "text/plain": [
       "<Figure size 1300x500 with 1 Axes>"
      ]
     },
     "metadata": {},
     "output_type": "display_data"
    }
   ],
   "source": [
    "grafico_STATE = Lista.groupby('STATE').count().IBGE_RES_POP_BRAS.sort_values(ascending=False).head(5)\n",
    "\n",
    "plt.figure(figsize=(13,5))\n",
    "plt.bar(grafico_STATE.index,grafico_STATE.values) \n",
    "plt.title('Cidades Mais Populosas')\n",
    "plt.xticks(rotation=60)\n",
    "plt.show()"
   ]
  },
  {
   "cell_type": "code",
   "execution_count": 12,
   "id": "1fdf1e6f",
   "metadata": {},
   "outputs": [
    {
     "data": {
      "text/plain": [
       "CITY\n",
       "São Paulo         3548433.0\n",
       "Rio De Janeiro    2147235.0\n",
       "Salvador           860090.0\n",
       "Belo Horizonte     762924.0\n",
       "Brasília           751558.0\n",
       "Fortaleza          711478.0\n",
       "Curitiba           576347.0\n",
       "Porto Alegre       508503.0\n",
       "Recife             471252.0\n",
       "Manaus             458959.0\n",
       "Name: IBGE_DU_URBAN, dtype: float64"
      ]
     },
     "execution_count": 12,
     "metadata": {},
     "output_type": "execute_result"
    }
   ],
   "source": [
    "Lista.groupby('CITY').sum(numeric_only=True).IBGE_DU_URBAN.sort_values(ascending=False).head(10)"
   ]
  },
  {
   "cell_type": "code",
   "execution_count": 10,
   "id": "99e25ac2",
   "metadata": {},
   "outputs": [
    {
     "data": {
      "text/plain": [
       "CITY\n",
       "São José De Ribamar    33809.0\n",
       "São Paulo              27715.0\n",
       "Brasília               23261.0\n",
       "Petrolina              19120.0\n",
       "Santarém               17435.0\n",
       "Barcarena              16037.0\n",
       "Bom Jardim             14922.0\n",
       "São Luís               14424.0\n",
       "Cabo Frio              14044.0\n",
       "Ibiúna                 13945.0\n",
       "Name: IBGE_DU_RURAL, dtype: float64"
      ]
     },
     "execution_count": 10,
     "metadata": {},
     "output_type": "execute_result"
    }
   ],
   "source": [
    "Lista.groupby('CITY').sum(numeric_only=True).IBGE_DU_RURAL.sort_values(ascending=False).head(10)\n",
    "\n"
   ]
  },
  {
   "cell_type": "code",
   "execution_count": 11,
   "id": "83ac0c30",
   "metadata": {},
   "outputs": [
    {
     "data": {
      "image/png": "[encoded data removed]",
      "text/plain": [
       "<Figure size 1300x500 with 1 Axes>"
      ]
     },
     "metadata": {},
     "output_type": "display_data"
    }
   ],
   "source": [
    "rural = Lista.groupby('CITY').sum(numeric_only=True).IBGE_DU_RURAL.sort_values(ascending=False).head(10)\n",
    "plt.figure(figsize=(13,5))\n",
    "plt.bar(rural.index, rural.values) \n",
    "plt.title('Cidades com Mais População rural')\n",
    "plt.xticks(rotation=60)\n",
    "plt.show()"
   ]
  },
  {
   "cell_type": "code",
   "execution_count": null,
   "id": "56d3582e",
   "metadata": {},
   "outputs": [],
   "source": []
  }
 ],
 "metadata": {
  "kernelspec": {
   "display_name": "Python 3 (ipykernel)",
   "language": "python",
   "name": "python3"
  },
  "language_info": {
   "codemirror_mode": {
    "name": "ipython",
    "version": 3
   },
   "file_extension": ".py",
   "mimetype": "text/x-python",
   "name": "python",
   "nbconvert_exporter": "python",
   "pygments_lexer": "ipython3",
   "version": "3.10.4"
  }
 },
 "nbformat": 4,
 "nbformat_minor": 5
}
